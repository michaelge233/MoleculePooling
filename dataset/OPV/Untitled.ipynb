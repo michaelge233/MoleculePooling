{
 "cells": [
  {
   "cell_type": "code",
   "execution_count": 2,
   "id": "4dc0965a",
   "metadata": {},
   "outputs": [],
   "source": [
    "with open(\"./train.csv\",\"r\") as fo:\n",
    "    train=fo.read()\n",
    "with open(\"./valid_set.csv\",\"r\") as fo:\n",
    "    va=fo.readlines()[1:]\n",
    "with open(\"./test_set.csv\",\"r\") as fo:\n",
    "    test=fo.readlines()[1:]\n",
    "final=[train]+va+test\n",
    "with open(\"./OPV.csv\",\"w\") as fo:\n",
    "    for line in final:\n",
    "        fo.write(line)"
   ]
  },
  {
   "cell_type": "code",
   "execution_count": null,
   "id": "03815ca9",
   "metadata": {},
   "outputs": [],
   "source": []
  }
 ],
 "metadata": {
  "kernelspec": {
   "display_name": "Python 3 (ipykernel)",
   "language": "python",
   "name": "python3"
  },
  "language_info": {
   "codemirror_mode": {
    "name": "ipython",
    "version": 3
   },
   "file_extension": ".py",
   "mimetype": "text/x-python",
   "name": "python",
   "nbconvert_exporter": "python",
   "pygments_lexer": "ipython3",
   "version": "3.8.10"
  }
 },
 "nbformat": 4,
 "nbformat_minor": 5
}
